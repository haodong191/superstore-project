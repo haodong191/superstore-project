{
 "cells": [
  {
   "cell_type": "code",
   "execution_count": 1,
   "id": "25ee0d4e-1bd1-439b-b1ce-c92b46e5b1b5",
   "metadata": {},
   "outputs": [],
   "source": [
    "import pandas as pd\n",
    "import numpy as np\n",
    "import psycopg2 as pg\n",
    "import pandas.io.sql as psql\n",
    "from datetime import date\n",
    "from sqlalchemy import create_engine"
   ]
  },
  {
   "cell_type": "code",
   "execution_count": 6,
   "id": "4e3ebcfc-69f9-43c7-b04f-085804195ca9",
   "metadata": {},
   "outputs": [],
   "source": [
    "connection = pg.connect(host=\"localhost\", port = 5432, database=\"superstore\", user=\"postgres\", password=\"Titbon1!\")"
   ]
  },
  {
   "cell_type": "code",
   "execution_count": 7,
   "id": "8ee8cbd1-933e-466f-b626-ff50702aa657",
   "metadata": {},
   "outputs": [
    {
     "name": "stdout",
     "output_type": "stream",
     "text": [
      "      row_id        order_id  order_date   ship_date       ship_mode  \\\n",
      "0       1133  US-2016-114776  2016-12-06  2016-12-07     First Class   \n",
      "1          1  CA-2016-152156  2016-11-08  2016-11-11    Second Class   \n",
      "2          3  CA-2016-138688  2016-06-12  2016-06-16    Second Class   \n",
      "3          4  US-2015-108966  2015-10-11  2015-10-18  Standard Class   \n",
      "4          6  CA-2014-115812  2014-06-09  2014-06-14  Standard Class   \n",
      "...      ...             ...         ...         ...             ...   \n",
      "5004    9987  CA-2016-125794  2016-09-29  2016-10-03  Standard Class   \n",
      "5005    9988  CA-2017-163629  2017-11-17  2017-11-21  Standard Class   \n",
      "5006    9990  CA-2014-110422  2014-01-21  2014-01-23    Second Class   \n",
      "5007    9991  CA-2017-121258  2017-02-26  2017-03-03  Standard Class   \n",
      "5008    9994  CA-2017-119914  2017-05-04  2017-05-09    Second Class   \n",
      "\n",
      "     customer_id     customer_name    segment        country             city  \\\n",
      "0       GG-14650      Greg Guthrie  Corporate  United States          Antioch   \n",
      "1       CG-12520       Claire Gute   Consumer  United States        Henderson   \n",
      "2       DV-13045   Darrin Van Huff  Corporate  United States      Los Angeles   \n",
      "3       SO-20335    Sean O'Donnell   Consumer  United States  Fort Lauderdale   \n",
      "4       BH-11710   Brosina Hoffman   Consumer  United States      Los Angeles   \n",
      "...          ...               ...        ...            ...              ...   \n",
      "5004    ML-17410      Maris LaWare   Consumer  United States      Los Angeles   \n",
      "5005    RA-19885      Ruben Ausman  Corporate  United States           Athens   \n",
      "5006    TB-21400  Tom Boeckenhauer   Consumer  United States            Miami   \n",
      "5007    DB-13060       Dave Brooks   Consumer  United States       Costa Mesa   \n",
      "5008    CC-12220      Chris Cortes   Consumer  United States      Westminster   \n",
      "\n",
      "      ... postal_code  regiion       product_id         category sub_category  \\\n",
      "0     ...       94509     West  OFF-PA-10004100  Office Supplies        Paper   \n",
      "1     ...       42420    South  FUR-BO-10001798        Furniture    Bookcases   \n",
      "2     ...       90036     West  OFF-LA-10000240  Office Supplies       Labels   \n",
      "3     ...       33311    South  FUR-TA-10000577        Furniture       Tables   \n",
      "4     ...       90032     West  FUR-FU-10001487        Furniture  Furnishings   \n",
      "...   ...         ...      ...              ...              ...          ...   \n",
      "5004  ...       90008     West  TEC-AC-10003399       Technology  Accessories   \n",
      "5005  ...       30605    South  TEC-AC-10001539       Technology  Accessories   \n",
      "5006  ...       33180    South  FUR-FU-10001889        Furniture  Furnishings   \n",
      "5007  ...       92627     West  FUR-FU-10000747        Furniture  Furnishings   \n",
      "5008  ...       92683     West  OFF-AP-10002684  Office Supplies   Appliances   \n",
      "\n",
      "                                           product_name     sales  quantity  \\\n",
      "0                                             Xerox 216   19.4400         3   \n",
      "1                     Bush Somerset Collection Bookcase  261.9600         2   \n",
      "2     Self-Adhesive Address Labels for Typewriters b...   14.6200         2   \n",
      "3         Bretford CR4500 Series Slim Rectangular Table  957.5775         5   \n",
      "4     Eldon Expressions Wood and Plastic Desk Access...   48.8600         7   \n",
      "...                                                 ...       ...       ...   \n",
      "5004  Memorex Mini Travel Drive 64 GB USB 2.0 Flash ...   36.2400         1   \n",
      "5005  Logitech G430 Surround Sound Gaming Headset wi...   79.9900         1   \n",
      "5006                             Ultra Door Pull Handle   25.2480         3   \n",
      "5007  Tenex B1-RE Series Chair Mats for Low Pile Car...   91.9600         2   \n",
      "5008  Acco 7-Outlet Masterpiece Power Center  Wihtou...  243.1600         2   \n",
      "\n",
      "      discount    profit  \n",
      "0         0.00    9.3312  \n",
      "1         0.00   41.9136  \n",
      "2         0.00    6.8714  \n",
      "3         0.45 -383.0310  \n",
      "4         0.00   14.1694  \n",
      "...        ...       ...  \n",
      "5004      0.00   15.2208  \n",
      "5005      0.00   28.7964  \n",
      "5006      0.20    4.1028  \n",
      "5007      0.00   15.6332  \n",
      "5008      0.00   72.9480  \n",
      "\n",
      "[5009 rows x 21 columns]\n"
     ]
    }
   ],
   "source": [
    "sql_df = pd.read_sql_query('select * from superstore',con=connection)\n",
    "print(sql_df)"
   ]
  },
  {
   "cell_type": "code",
   "execution_count": null,
   "id": "5656c5a2-d21b-4a9a-872d-5ba07ea6cf11",
   "metadata": {},
   "outputs": [],
   "source": []
  },
  {
   "cell_type": "code",
   "execution_count": null,
   "id": "37da9dbf-9c00-4f2a-9f9e-b0edd4d0f25f",
   "metadata": {},
   "outputs": [],
   "source": []
  },
  {
   "cell_type": "code",
   "execution_count": null,
   "id": "902a244b-246a-4a8d-8da3-2ee3bfe0c276",
   "metadata": {},
   "outputs": [],
   "source": []
  },
  {
   "cell_type": "code",
   "execution_count": null,
   "id": "447f53b1-0e10-464c-b54a-6db4df68a5d6",
   "metadata": {},
   "outputs": [],
   "source": []
  },
  {
   "cell_type": "code",
   "execution_count": null,
   "id": "0b78c639-5f52-4c51-80b0-17591f817073",
   "metadata": {},
   "outputs": [],
   "source": []
  }
 ],
 "metadata": {
  "kernelspec": {
   "display_name": "Python 3",
   "language": "python",
   "name": "python3"
  },
  "language_info": {
   "codemirror_mode": {
    "name": "ipython",
    "version": 3
   },
   "file_extension": ".py",
   "mimetype": "text/x-python",
   "name": "python",
   "nbconvert_exporter": "python",
   "pygments_lexer": "ipython3",
   "version": "3.7.10"
  }
 },
 "nbformat": 4,
 "nbformat_minor": 5
}
